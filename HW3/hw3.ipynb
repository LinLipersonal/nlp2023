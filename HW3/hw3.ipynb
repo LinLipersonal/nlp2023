{
 "cells": [
  {
   "cell_type": "markdown",
   "id": "cf6ec9a6",
   "metadata": {},
   "source": [
    "## B0928002 林力"
   ]
  },
  {
   "cell_type": "code",
   "execution_count": 1,
   "id": "8dd5f879",
   "metadata": {},
   "outputs": [
    {
     "name": "stdout",
     "output_type": "stream",
     "text": [
      "6000\n"
     ]
    }
   ],
   "source": [
    "import json\n",
    "with open(\"movie_full.json\") as fp:\n",
    "    movies = json.load(fp)\n",
    "fp.close()\n",
    "print (len(movies))"
   ]
  },
  {
   "cell_type": "code",
   "execution_count": 2,
   "id": "137942ca",
   "metadata": {},
   "outputs": [
    {
     "name": "stderr",
     "output_type": "stream",
     "text": [
      "[nltk_data] Downloading package stopwords to /Users/linli/nltk_data...\n",
      "[nltk_data]   Package stopwords is already up-to-date!\n"
     ]
    },
    {
     "data": {
      "text/plain": [
       "True"
      ]
     },
     "execution_count": 2,
     "metadata": {},
     "output_type": "execute_result"
    }
   ],
   "source": [
    "import nltk\n",
    "nltk.download('stopwords')"
   ]
  },
  {
   "cell_type": "code",
   "execution_count": 3,
   "id": "1a8b6744",
   "metadata": {},
   "outputs": [
    {
     "name": "stderr",
     "output_type": "stream",
     "text": [
      "Building prefix dict from the default dictionary ...\n",
      "Loading model from cache /var/folders/hd/b9ptqs9s7wgd9115fq_x_b100000gn/T/jieba.cache\n",
      "Loading model cost 0.520 seconds.\n",
      "Prefix dict has been built successfully.\n"
     ]
    }
   ],
   "source": [
    "import jieba\n",
    "import re\n",
    "from zhon.hanzi import punctuation\n",
    "from nltk.corpus import stopwords\n",
    "\n",
    "punctuations = list(punctuation)\n",
    "stopword = [line.strip().replace('\\n', '') for line in open('./needs/stopword.txt', 'r').readlines()]\n",
    "punctuations = [line.strip().replace('\\n', '') for line in open('./needs/punctuation.txt', 'r').readlines()]\n",
    "jieba.load_userdict('./needs/userDict.txt')\n",
    "stop_words = stopwords.words(\"chinese\")"
   ]
  },
  {
   "cell_type": "code",
   "execution_count": 4,
   "id": "314266ca",
   "metadata": {},
   "outputs": [],
   "source": [
    "DATA =[]\n",
    "\n",
    "for movie in movies:\n",
    "    movie['intro'] = re.sub('[^\\u4e00-\\u9fa5]','',movie['intro'])\n",
    "    info = movie['intro'].replace('\\n','').replace('\\t','').replace('\\u3000','')\n",
    "    info = jieba.lcut(info)\n",
    "    Info = [i for i in list(info) if i not in stopword]\n",
    "    Info = [i for i in list(info) if i not in stop_words]\n",
    "\n",
    "    info = [\" \".join(Info)]\n",
    "    info.insert(0, movie['class_label'][0] if len(movie['class_label'])>0 else \"NA\")\n",
    "\n",
    "    DATA.append(info)"
   ]
  },
  {
   "cell_type": "code",
   "execution_count": 5,
   "id": "b7f767da",
   "metadata": {},
   "outputs": [
    {
     "name": "stdout",
     "output_type": "stream",
     "text": [
      "['愛情', '奧斯卡 影帝 安東尼 霍普金斯 瑞秋懷茲 裘德洛 班佛 斯特 眾星 雲集 主演 無法無天 奧斯卡 大 導演 佛南度 梅 瑞爾 斯 執導 世紀 生動 充滿 懸念 感人至深 愛情 傳說 王冠 兩度 獲得奧斯卡 金像獎 提名 編劇 彼得 摩根 倫敦 影展 最佳影片 入選 改編 奧地利 劇作家 施尼 茨 勒 輪舞 現代社會 中 家庭 夫妻 的問題 美國 綜藝 報 影片 清楚地 表達 觀點 報導 一名 斯洛伐克 女子 為 脫貧 當娼 揭開序幕 擔任 汽車公司 高層 主管 維也納 出差 想 背妻 偷吃 卻 慘遭 勒索 而其 妻子 出軌 搭上 巴西 攝影師 女兒 失蹤 多年 老父親 英國 飛到 美國 尋 女兒 途中 遇上 與 男友 分手 巴西 女子 風雪 阻擋 留在 洛杉磯 機場 回教 牙醫 愛上 有夫之婦 而她 俄羅斯 黑幫 老公 黑吃黑 事件中 有了 一件 選擇 城市 男女 編織 出 簡單 卻又 令人 癡 醉的 多線 敘事 故事 人生 分岔 口 不確定性 令 生命 更有 期望 關於 電影 無法無天 奧斯卡 大 導演 佛南度 梅 瑞爾 斯 執導 國際合作 戲劇 驚悚 電影 彼得 摩根 改編自 奧地利 劇作家 亞瑟 施尼 茨 勒 劇作 輪舞 導演 編劇 將原 著中 摩登 不停 變化 螺旋 敘事 透過 劇中 人物 串聯 來來 不同的 國家 城市 講述 世紀 生動 充滿 懸念 感人至深 愛情 傳說 故事 起自 維也納 影片 美妙的 將 巴黎 倫敦 斯洛伐克 首都 巴西 里約 美國 丹佛 鳳凰城 城市的 人們 編織 出 一幅 簡單 卻又 令人 癡 醉的 敘述 編織 出 令人 痴迷 命運 輪迴 色局 追 兇 電影 色局 追 兇 是一個 關係 交錯 愛情故事 有如 火線 交錯 與 蝴蝶效應 綜合體 各條 支線 看似 獨立 發展 卻又 莫名 交集 隱約 中 發現 個中 因果 循環 每個 主角 做的 決定 像是 蝴蝶效應 隨時 都可能 影響到 關係 值得一提的是 全片 影帝 影后 主演 與 導演 第二次 合作的 瑞秋懷茲 信手拈來 隨便 都是 戲 演出 一位 外遇 裡 掙扎 婦女 裘德洛 本片 演技 極為 出色 資深 奧斯卡 影帝 安東尼 霍普金斯 將 尋找 失蹤 女兒 父親 詮釋 相當 完美 全片 部 咀嚼 有味 作品 生命 就如 同一個 大 圓弧 浮世 男女 都 沉醉在 愛慾 沉淪 中 偶然之間 會 擦肩而過 看似 悲傷 卻 代表 著 一段 關係 結束 卻又 可能是 一個人 正規的 省思 每個人 都會 愛情 圓圈 裡 找到 自己的 幸福']\n"
     ]
    }
   ],
   "source": [
    "print (DATA[1])"
   ]
  },
  {
   "cell_type": "code",
   "execution_count": 6,
   "id": "709c77b6",
   "metadata": {},
   "outputs": [],
   "source": [
    "from sklearn.feature_extraction.text import TfidfVectorizer\n",
    "from sklearn.model_selection import train_test_split\n",
    "# X = [data[1] for data in DATA]\n",
    "# y = [data[0] for data in DATA]\n",
    "# train_X, test_X, train_y, test_y = train_test_split(X, y, test_size=0.083333)  \n",
    "# TFIDF = TfidfVectorizer(token_pattern =r\"(?u)\\b\\w\\w+\\b\")\n",
    "# train_X = TFIDF.fit_transform(train_x)\n",
    "# train_X = TFIDF.transform(train_x)\n",
    "# train_Y = TFIDF.fit_transform(train_y)\n",
    "# train_Y = TFIDF.transform(train_y)\n",
    "\n",
    "train_x = [data[1] for data in DATA]\n",
    "train_y = [data[0] for data in DATA]\n",
    "TFIDF = TfidfVectorizer(token_pattern =r\"(?u)\\b\\w\\w+\\b\")\n",
    "train_X = TFIDF.fit_transform(train_x)\n",
    "train_X = TFIDF.transform(train_x)"
   ]
  },
  {
   "cell_type": "code",
   "execution_count": 7,
   "id": "39392792",
   "metadata": {},
   "outputs": [],
   "source": [
    "train_X, test_X, train_y, test_y = train_test_split(train_X, train_y, test_size=0.08333)  "
   ]
  },
  {
   "cell_type": "code",
   "execution_count": 8,
   "id": "95aaeeb2",
   "metadata": {},
   "outputs": [
    {
     "name": "stdout",
     "output_type": "stream",
     "text": [
      "6000\n",
      "5500\n",
      "5500\n",
      "500\n",
      "500\n"
     ]
    }
   ],
   "source": [
    "print (len(train_x))\n",
    "print (len(train_y))\n",
    "print (train_X.shape[0])\n",
    "print (test_X.shape[0])\n",
    "print (len(test_y))"
   ]
  },
  {
   "cell_type": "code",
   "execution_count": 9,
   "id": "569b2101",
   "metadata": {},
   "outputs": [],
   "source": [
    "from sklearn.metrics import classification_report\n",
    "from sklearn.metrics import confusion_matrix\n",
    "from sklearn import metrics"
   ]
  },
  {
   "cell_type": "code",
   "execution_count": 10,
   "id": "30417e32",
   "metadata": {},
   "outputs": [
    {
     "name": "stdout",
     "output_type": "stream",
     "text": [
      "KNN\n",
      "Predicttion Precision:  51.0 %\n",
      "\n",
      "              precision    recall  f1-score   support\n",
      "\n",
      "          冒險       0.00      0.00      0.00         6\n",
      "          劇情       0.41      0.85      0.56       142\n",
      "          動作       0.56      0.49      0.52        49\n",
      "          動畫       0.76      0.58      0.66        43\n",
      "          勵志       0.00      0.00      0.00         5\n",
      "          喜劇       0.00      0.00      0.00        11\n",
      "          奇幻       0.00      0.00      0.00         7\n",
      "          影展       0.67      0.25      0.36         8\n",
      "          恐怖       0.70      0.47      0.57        40\n",
      "          愛情       0.63      0.60      0.62        93\n",
      "       懸疑/驚悚       0.00      0.00      0.00        13\n",
      "          戰爭       0.00      0.00      0.00         3\n",
      "          武俠       0.00      0.00      0.00         1\n",
      "       歷史/傳記       0.00      0.00      0.00         8\n",
      "       溫馨/家庭       0.00      0.00      0.00        13\n",
      "          犯罪       0.00      0.00      0.00         9\n",
      "          科幻       0.00      0.00      0.00         9\n",
      "         紀錄片       0.83      0.19      0.31        26\n",
      "       音樂/歌舞       1.00      0.14      0.25        14\n",
      "\n",
      "    accuracy                           0.51       500\n",
      "   macro avg       0.29      0.19      0.20       500\n",
      "weighted avg       0.49      0.51      0.45       500\n",
      "\n"
     ]
    },
    {
     "name": "stderr",
     "output_type": "stream",
     "text": [
      "/Users/linli/opt/anaconda3/lib/python3.9/site-packages/sklearn/neighbors/_classification.py:228: FutureWarning: Unlike other reduction functions (e.g. `skew`, `kurtosis`), the default behavior of `mode` typically preserves the axis it acts along. In SciPy 1.11.0, this behavior will change: the default value of `keepdims` will become False, the `axis` over which the statistic is taken will be eliminated, and the value None will no longer be accepted. Set `keepdims` to True or False to avoid this warning.\n",
      "  mode, _ = stats.mode(_y[neigh_ind, k], axis=1)\n",
      "/Users/linli/opt/anaconda3/lib/python3.9/site-packages/sklearn/metrics/_classification.py:1318: UndefinedMetricWarning: Precision and F-score are ill-defined and being set to 0.0 in labels with no predicted samples. Use `zero_division` parameter to control this behavior.\n",
      "  _warn_prf(average, modifier, msg_start, len(result))\n",
      "/Users/linli/opt/anaconda3/lib/python3.9/site-packages/sklearn/metrics/_classification.py:1318: UndefinedMetricWarning: Precision and F-score are ill-defined and being set to 0.0 in labels with no predicted samples. Use `zero_division` parameter to control this behavior.\n",
      "  _warn_prf(average, modifier, msg_start, len(result))\n",
      "/Users/linli/opt/anaconda3/lib/python3.9/site-packages/sklearn/metrics/_classification.py:1318: UndefinedMetricWarning: Precision and F-score are ill-defined and being set to 0.0 in labels with no predicted samples. Use `zero_division` parameter to control this behavior.\n",
      "  _warn_prf(average, modifier, msg_start, len(result))\n"
     ]
    }
   ],
   "source": [
    "from sklearn.neighbors import KNeighborsClassifier\n",
    "KNN = KNeighborsClassifier(n_neighbors=30)\n",
    "KNN.fit(train_X, train_y)\n",
    "y_pred_KNN = KNN.predict(test_X)\n",
    "\n",
    "test_y_predicted = KNN.predict(test_X)\n",
    "accuracy = metrics.accuracy_score(test_y, test_y_predicted)\n",
    "print ('KNN')\n",
    "print ('Predicttion Precision: ', (accuracy*100).round(), '%')\n",
    "print ('')\n",
    "\n",
    "print (classification_report(test_y, y_pred_KNN))"
   ]
  },
  {
   "cell_type": "code",
   "execution_count": 11,
   "id": "4e7a8ee7",
   "metadata": {},
   "outputs": [
    {
     "name": "stdout",
     "output_type": "stream",
     "text": [
      "DecisionTree\n",
      "Predicttion Precision:  42.0 %\n",
      "\n",
      "              precision    recall  f1-score   support\n",
      "\n",
      "          冒險       0.00      0.00      0.00         6\n",
      "          劇情       0.39      0.50      0.44       142\n",
      "          動作       0.38      0.35      0.36        49\n",
      "          動畫       0.57      0.63      0.60        43\n",
      "          勵志       0.00      0.00      0.00         5\n",
      "          喜劇       0.29      0.18      0.22        11\n",
      "          奇幻       0.12      0.14      0.13         7\n",
      "          影展       0.50      0.25      0.33         8\n",
      "          恐怖       0.56      0.47      0.51        40\n",
      "          愛情       0.55      0.56      0.56        93\n",
      "       懸疑/驚悚       0.11      0.08      0.09        13\n",
      "          戰爭       0.00      0.00      0.00         3\n",
      "          武俠       0.00      0.00      0.00         1\n",
      "       歷史/傳記       0.00      0.00      0.00         8\n",
      "       溫馨/家庭       0.00      0.00      0.00        13\n",
      "          犯罪       0.00      0.00      0.00         9\n",
      "          科幻       0.22      0.22      0.22         9\n",
      "         紀錄片       0.42      0.38      0.40        26\n",
      "       音樂/歌舞       0.50      0.36      0.42        14\n",
      "\n",
      "    accuracy                           0.42       500\n",
      "   macro avg       0.24      0.22      0.23       500\n",
      "weighted avg       0.40      0.42      0.41       500\n",
      "\n"
     ]
    },
    {
     "name": "stderr",
     "output_type": "stream",
     "text": [
      "/Users/linli/opt/anaconda3/lib/python3.9/site-packages/sklearn/metrics/_classification.py:1318: UndefinedMetricWarning: Precision and F-score are ill-defined and being set to 0.0 in labels with no predicted samples. Use `zero_division` parameter to control this behavior.\n",
      "  _warn_prf(average, modifier, msg_start, len(result))\n",
      "/Users/linli/opt/anaconda3/lib/python3.9/site-packages/sklearn/metrics/_classification.py:1318: UndefinedMetricWarning: Precision and F-score are ill-defined and being set to 0.0 in labels with no predicted samples. Use `zero_division` parameter to control this behavior.\n",
      "  _warn_prf(average, modifier, msg_start, len(result))\n",
      "/Users/linli/opt/anaconda3/lib/python3.9/site-packages/sklearn/metrics/_classification.py:1318: UndefinedMetricWarning: Precision and F-score are ill-defined and being set to 0.0 in labels with no predicted samples. Use `zero_division` parameter to control this behavior.\n",
      "  _warn_prf(average, modifier, msg_start, len(result))\n"
     ]
    }
   ],
   "source": [
    "from sklearn import tree\n",
    "clf = tree.DecisionTreeClassifier()\n",
    "clf.fit(train_X, train_y)\n",
    "y_pred_Dec = clf.predict(test_X)\n",
    "\n",
    "test_y_predicted = clf.predict(test_X)\n",
    "accuracy = metrics.accuracy_score(test_y, test_y_predicted)\n",
    "print (\"DecisionTree\")\n",
    "print ('Predicttion Precision: ', (accuracy*100).round(), '%')\n",
    "print ('')\n",
    "\n",
    "print (classification_report(test_y, y_pred_Dec))"
   ]
  },
  {
   "cell_type": "code",
   "execution_count": 12,
   "id": "d821c6c9",
   "metadata": {},
   "outputs": [
    {
     "name": "stdout",
     "output_type": "stream",
     "text": [
      "SVM\n",
      "Predicttion Precision:  59.0 %\n",
      "\n",
      "              precision    recall  f1-score   support\n",
      "\n",
      "          冒險       0.00      0.00      0.00         6\n",
      "          劇情       0.49      0.80      0.61       142\n",
      "          動作       0.59      0.55      0.57        49\n",
      "          動畫       0.81      0.79      0.80        43\n",
      "          勵志       0.00      0.00      0.00         5\n",
      "          喜劇       1.00      0.09      0.17        11\n",
      "          奇幻       1.00      0.14      0.25         7\n",
      "          影展       0.75      0.38      0.50         8\n",
      "          恐怖       0.78      0.78      0.78        40\n",
      "          愛情       0.64      0.72      0.68        93\n",
      "       懸疑/驚悚       0.00      0.00      0.00        13\n",
      "          戰爭       0.50      0.33      0.40         3\n",
      "          武俠       0.00      0.00      0.00         1\n",
      "       歷史/傳記       1.00      0.12      0.22         8\n",
      "       溫馨/家庭       0.00      0.00      0.00        13\n",
      "          犯罪       0.00      0.00      0.00         9\n",
      "          科幻       0.50      0.22      0.31         9\n",
      "         紀錄片       0.62      0.38      0.48        26\n",
      "       音樂/歌舞       0.83      0.36      0.50        14\n",
      "\n",
      "    accuracy                           0.59       500\n",
      "   macro avg       0.50      0.30      0.33       500\n",
      "weighted avg       0.58      0.59      0.55       500\n",
      "\n"
     ]
    },
    {
     "name": "stderr",
     "output_type": "stream",
     "text": [
      "/Users/linli/opt/anaconda3/lib/python3.9/site-packages/sklearn/metrics/_classification.py:1318: UndefinedMetricWarning: Precision and F-score are ill-defined and being set to 0.0 in labels with no predicted samples. Use `zero_division` parameter to control this behavior.\n",
      "  _warn_prf(average, modifier, msg_start, len(result))\n",
      "/Users/linli/opt/anaconda3/lib/python3.9/site-packages/sklearn/metrics/_classification.py:1318: UndefinedMetricWarning: Precision and F-score are ill-defined and being set to 0.0 in labels with no predicted samples. Use `zero_division` parameter to control this behavior.\n",
      "  _warn_prf(average, modifier, msg_start, len(result))\n",
      "/Users/linli/opt/anaconda3/lib/python3.9/site-packages/sklearn/metrics/_classification.py:1318: UndefinedMetricWarning: Precision and F-score are ill-defined and being set to 0.0 in labels with no predicted samples. Use `zero_division` parameter to control this behavior.\n",
      "  _warn_prf(average, modifier, msg_start, len(result))\n"
     ]
    }
   ],
   "source": [
    "from sklearn import svm\n",
    "\n",
    "linearSvcModel = svm.LinearSVC(C=1, max_iter=10000)\n",
    "linearSvcModel.fit(train_X, train_y)\n",
    "y_pred_SVM = linearSvcModel.predict(test_X)\n",
    "\n",
    "test_y_predicted = linearSvcModel.predict(test_X)\n",
    "accuracy = metrics.accuracy_score(test_y, test_y_predicted)\n",
    "print (\"SVM\")\n",
    "print ('Predicttion Precision: ', (accuracy*100).round(), '%')\n",
    "print ('')\n",
    "\n",
    "print (classification_report(test_y, y_pred_SVM))"
   ]
  },
  {
   "cell_type": "code",
   "execution_count": 13,
   "id": "6e42ffd9",
   "metadata": {},
   "outputs": [
    {
     "name": "stdout",
     "output_type": "stream",
     "text": [
      "MultinomialNB\n",
      "Predicttion Precision:  33.0 %\n",
      "\n",
      "              precision    recall  f1-score   support\n",
      "\n",
      "          冒險       0.00      0.00      0.00         6\n",
      "          劇情       0.30      0.99      0.46       142\n",
      "          動作       1.00      0.02      0.04        49\n",
      "          動畫       0.00      0.00      0.00        43\n",
      "          勵志       0.00      0.00      0.00         5\n",
      "          喜劇       0.00      0.00      0.00        11\n",
      "          奇幻       0.00      0.00      0.00         7\n",
      "          影展       0.00      0.00      0.00         8\n",
      "          恐怖       0.00      0.00      0.00        40\n",
      "          愛情       0.85      0.24      0.37        93\n",
      "       懸疑/驚悚       0.00      0.00      0.00        13\n",
      "          戰爭       0.00      0.00      0.00         3\n",
      "          武俠       0.00      0.00      0.00         1\n",
      "       歷史/傳記       0.00      0.00      0.00         8\n",
      "       溫馨/家庭       0.00      0.00      0.00        13\n",
      "          犯罪       0.00      0.00      0.00         9\n",
      "          科幻       0.00      0.00      0.00         9\n",
      "         紀錄片       0.00      0.00      0.00        26\n",
      "       音樂/歌舞       0.00      0.00      0.00        14\n",
      "\n",
      "    accuracy                           0.33       500\n",
      "   macro avg       0.11      0.07      0.05       500\n",
      "weighted avg       0.34      0.33      0.20       500\n",
      "\n"
     ]
    },
    {
     "name": "stderr",
     "output_type": "stream",
     "text": [
      "/Users/linli/opt/anaconda3/lib/python3.9/site-packages/sklearn/metrics/_classification.py:1318: UndefinedMetricWarning: Precision and F-score are ill-defined and being set to 0.0 in labels with no predicted samples. Use `zero_division` parameter to control this behavior.\n",
      "  _warn_prf(average, modifier, msg_start, len(result))\n",
      "/Users/linli/opt/anaconda3/lib/python3.9/site-packages/sklearn/metrics/_classification.py:1318: UndefinedMetricWarning: Precision and F-score are ill-defined and being set to 0.0 in labels with no predicted samples. Use `zero_division` parameter to control this behavior.\n",
      "  _warn_prf(average, modifier, msg_start, len(result))\n",
      "/Users/linli/opt/anaconda3/lib/python3.9/site-packages/sklearn/metrics/_classification.py:1318: UndefinedMetricWarning: Precision and F-score are ill-defined and being set to 0.0 in labels with no predicted samples. Use `zero_division` parameter to control this behavior.\n",
      "  _warn_prf(average, modifier, msg_start, len(result))\n"
     ]
    }
   ],
   "source": [
    "from sklearn.naive_bayes import MultinomialNB\n",
    "naive_bayes_classifier = MultinomialNB()\n",
    "naive_bayes_classifier.fit(train_X, train_y)\n",
    "y_pred_NB = naive_bayes_classifier.predict(test_X)\n",
    "\n",
    "test_y_predicted = naive_bayes_classifier.predict(test_X)\n",
    "accuracy = metrics.accuracy_score(test_y, test_y_predicted)\n",
    "print ('MultinomialNB')\n",
    "print ('Predicttion Precision: ', (accuracy*100).round(), '%')\n",
    "print ('')\n",
    "\n",
    "print (classification_report(test_y, y_pred_NB))"
   ]
  },
  {
   "cell_type": "code",
   "execution_count": null,
   "id": "34b2171c",
   "metadata": {},
   "outputs": [],
   "source": []
  }
 ],
 "metadata": {
  "kernelspec": {
   "display_name": "Python 3 (ipykernel)",
   "language": "python",
   "name": "python3"
  },
  "language_info": {
   "codemirror_mode": {
    "name": "ipython",
    "version": 3
   },
   "file_extension": ".py",
   "mimetype": "text/x-python",
   "name": "python",
   "nbconvert_exporter": "python",
   "pygments_lexer": "ipython3",
   "version": "3.9.13"
  }
 },
 "nbformat": 4,
 "nbformat_minor": 5
}
